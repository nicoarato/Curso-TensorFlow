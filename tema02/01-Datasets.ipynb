{
 "cells": [
  {
   "cell_type": "markdown",
   "metadata": {},
   "source": [
    "## Flores de Iris"
   ]
  },
  {
   "cell_type": "code",
   "execution_count": 3,
   "metadata": {},
   "outputs": [],
   "source": [
    "import tensorflow as tf\n",
    "from sklearn import datasets"
   ]
  },
  {
   "cell_type": "code",
   "execution_count": 4,
   "metadata": {},
   "outputs": [],
   "source": [
    "iris = datasets.load_iris()"
   ]
  },
  {
   "cell_type": "code",
   "execution_count": 6,
   "metadata": {},
   "outputs": [
    {
     "data": {
      "text/plain": [
       "150"
      ]
     },
     "execution_count": 6,
     "metadata": {},
     "output_type": "execute_result"
    }
   ],
   "source": [
    "len(iris.data)"
   ]
  },
  {
   "cell_type": "code",
   "execution_count": 7,
   "metadata": {},
   "outputs": [
    {
     "data": {
      "text/plain": [
       "150"
      ]
     },
     "execution_count": 7,
     "metadata": {},
     "output_type": "execute_result"
    }
   ],
   "source": [
    "len(iris.target)"
   ]
  },
  {
   "cell_type": "code",
   "execution_count": 8,
   "metadata": {},
   "outputs": [
    {
     "data": {
      "text/plain": [
       "array([5.1, 3.5, 1.4, 0.2])"
      ]
     },
     "execution_count": 8,
     "metadata": {},
     "output_type": "execute_result"
    }
   ],
   "source": [
    "iris.data[0]"
   ]
  },
  {
   "cell_type": "code",
   "execution_count": 9,
   "metadata": {},
   "outputs": [
    {
     "data": {
      "text/plain": [
       "0"
      ]
     },
     "execution_count": 9,
     "metadata": {},
     "output_type": "execute_result"
    }
   ],
   "source": [
    "iris.target[0]"
   ]
  },
  {
   "cell_type": "code",
   "execution_count": 10,
   "metadata": {},
   "outputs": [
    {
     "data": {
      "text/plain": [
       "{0, 1, 2}"
      ]
     },
     "execution_count": 10,
     "metadata": {},
     "output_type": "execute_result"
    }
   ],
   "source": [
    "set(iris.target)"
   ]
  },
  {
   "cell_type": "markdown",
   "metadata": {},
   "source": [
    "# Nacimientos y datos médicos"
   ]
  },
  {
   "cell_type": "markdown",
   "metadata": {},
   "source": [
    "Importando datos desde una url"
   ]
  },
  {
   "cell_type": "code",
   "execution_count": 13,
   "metadata": {},
   "outputs": [],
   "source": [
    "import requests\n",
    "url = \"https://raw.githubusercontent.com/joanby/tensorflow/master/datasets/birthweight.dat\"\n",
    "birth_file = requests.get(url)\n",
    "birth_data = birth_file.text.split('\\r\\n')"
   ]
  },
  {
   "cell_type": "code",
   "execution_count": 14,
   "metadata": {},
   "outputs": [
    {
     "data": {
      "text/plain": [
       "['LOW\\tAGE\\tLWT\\tRACE\\tSMOKE\\tPTL\\tHT\\tUI\\tBWT',\n",
       " '1\\t28\\t113\\t1\\t1\\t1\\t0\\t1\\t709',\n",
       " '1\\t29\\t130\\t0\\t0\\t0\\t0\\t1\\t1021',\n",
       " '1\\t34\\t187\\t1\\t1\\t0\\t1\\t0\\t1135',\n",
       " '1\\t25\\t105\\t1\\t0\\t1\\t1\\t0\\t1330',\n",
       " '1\\t25\\t85\\t1\\t0\\t0\\t0\\t1\\t1474',\n",
       " '1\\t27\\t150\\t1\\t0\\t0\\t0\\t0\\t1588',\n",
       " '1\\t23\\t97\\t1\\t0\\t0\\t0\\t1\\t1588',\n",
       " '1\\t24\\t128\\t1\\t0\\t1\\t0\\t0\\t1701',\n",
       " '1\\t24\\t132\\t1\\t0\\t0\\t1\\t0\\t1729',\n",
       " '1\\t21\\t165\\t0\\t1\\t0\\t1\\t0\\t1790',\n",
       " '1\\t32\\t105\\t1\\t1\\t0\\t0\\t0\\t1818',\n",
       " '1\\t19\\t91\\t0\\t1\\t1\\t0\\t1\\t1885',\n",
       " '1\\t25\\t115\\t1\\t0\\t0\\t0\\t0\\t1893',\n",
       " '1\\t16\\t130\\t1\\t0\\t0\\t0\\t0\\t1899',\n",
       " '1\\t25\\t92\\t0\\t1\\t0\\t0\\t0\\t1928',\n",
       " '1\\t20\\t150\\t0\\t1\\t0\\t0\\t0\\t1928',\n",
       " '1\\t21\\t190\\t1\\t0\\t0\\t0\\t1\\t1928',\n",
       " '1\\t24\\t155\\t0\\t1\\t1\\t0\\t0\\t1936',\n",
       " '1\\t21\\t103\\t1\\t0\\t0\\t0\\t0\\t1970',\n",
       " '1\\t20\\t125\\t1\\t0\\t0\\t0\\t1\\t2055',\n",
       " '1\\t25\\t89\\t1\\t0\\t1\\t0\\t0\\t2055',\n",
       " '1\\t19\\t102\\t0\\t0\\t0\\t0\\t0\\t2082',\n",
       " '1\\t19\\t112\\t0\\t1\\t0\\t0\\t1\\t2084',\n",
       " '1\\t26\\t117\\t0\\t1\\t1\\t0\\t1\\t2084',\n",
       " '1\\t24\\t138\\t0\\t0\\t0\\t0\\t0\\t2100',\n",
       " '1\\t17\\t130\\t1\\t1\\t1\\t0\\t1\\t2125',\n",
       " '1\\t20\\t120\\t1\\t1\\t0\\t0\\t0\\t2126',\n",
       " '1\\t22\\t130\\t0\\t1\\t1\\t0\\t1\\t2187',\n",
       " '1\\t27\\t130\\t1\\t0\\t0\\t0\\t1\\t2187',\n",
       " '1\\t20\\t80\\t1\\t1\\t0\\t0\\t1\\t2211',\n",
       " '1\\t17\\t110\\t0\\t1\\t0\\t0\\t0\\t2225',\n",
       " '1\\t25\\t105\\t1\\t0\\t1\\t0\\t0\\t2240',\n",
       " '1\\t20\\t109\\t1\\t0\\t0\\t0\\t0\\t2240',\n",
       " '1\\t18\\t148\\t1\\t0\\t0\\t0\\t0\\t2282',\n",
       " '1\\t18\\t110\\t1\\t1\\t1\\t0\\t0\\t2296',\n",
       " '1\\t20\\t121\\t0\\t1\\t1\\t0\\t1\\t2296',\n",
       " '1\\t21\\t100\\t1\\t0\\t1\\t0\\t0\\t2301',\n",
       " '1\\t26\\t96\\t1\\t0\\t0\\t0\\t0\\t2325',\n",
       " '1\\t31\\t102\\t0\\t1\\t1\\t0\\t0\\t2353',\n",
       " '1\\t15\\t110\\t0\\t0\\t0\\t0\\t0\\t2353',\n",
       " '1\\t23\\t187\\t1\\t1\\t0\\t0\\t0\\t2367',\n",
       " '1\\t20\\t122\\t1\\t1\\t1\\t0\\t0\\t2381',\n",
       " '1\\t24\\t105\\t1\\t1\\t0\\t0\\t0\\t2381',\n",
       " '1\\t15\\t115\\t1\\t0\\t0\\t0\\t1\\t2381',\n",
       " '1\\t23\\t120\\t1\\t0\\t0\\t0\\t0\\t2395',\n",
       " '1\\t30\\t142\\t0\\t1\\t1\\t0\\t0\\t2410',\n",
       " '1\\t22\\t130\\t0\\t1\\t0\\t0\\t0\\t2410',\n",
       " '1\\t17\\t120\\t0\\t1\\t0\\t0\\t0\\t2414',\n",
       " '1\\t23\\t110\\t0\\t1\\t1\\t0\\t0\\t2424',\n",
       " '1\\t17\\t120\\t1\\t0\\t0\\t0\\t0\\t2438',\n",
       " '1\\t26\\t154\\t1\\t0\\t1\\t1\\t0\\t2442',\n",
       " '1\\t20\\t105\\t1\\t0\\t0\\t0\\t0\\t2450',\n",
       " '1\\t26\\t168\\t0\\t1\\t0\\t0\\t0\\t2466',\n",
       " '1\\t14\\t101\\t1\\t1\\t1\\t0\\t0\\t2466',\n",
       " '1\\t28\\t95\\t0\\t1\\t0\\t0\\t0\\t2466',\n",
       " '1\\t14\\t100\\t1\\t0\\t0\\t0\\t0\\t2495',\n",
       " '1\\t23\\t94\\t1\\t1\\t0\\t0\\t0\\t2495',\n",
       " '1\\t17\\t142\\t1\\t0\\t0\\t1\\t0\\t2495',\n",
       " '1\\t21\\t130\\t0\\t1\\t0\\t1\\t0\\t2495',\n",
       " '0\\t19\\t182\\t1\\t0\\t0\\t0\\t1\\t2523',\n",
       " '0\\t33\\t155\\t1\\t0\\t0\\t0\\t0\\t2551',\n",
       " '0\\t20\\t105\\t0\\t1\\t0\\t0\\t0\\t2557',\n",
       " '0\\t21\\t108\\t0\\t1\\t0\\t0\\t1\\t2594',\n",
       " '0\\t18\\t107\\t0\\t1\\t0\\t0\\t1\\t2600',\n",
       " '0\\t21\\t124\\t1\\t0\\t0\\t0\\t0\\t2622',\n",
       " '0\\t22\\t118\\t0\\t0\\t0\\t0\\t0\\t2637',\n",
       " '0\\t17\\t103\\t1\\t0\\t0\\t0\\t0\\t2637',\n",
       " '0\\t29\\t123\\t0\\t1\\t0\\t0\\t0\\t2663',\n",
       " '0\\t26\\t113\\t0\\t1\\t0\\t0\\t0\\t2665',\n",
       " '0\\t19\\t95\\t1\\t0\\t0\\t0\\t0\\t2722',\n",
       " '0\\t19\\t150\\t1\\t0\\t0\\t0\\t0\\t2733',\n",
       " '0\\t22\\t95\\t1\\t0\\t0\\t1\\t0\\t2750',\n",
       " '0\\t30\\t107\\t1\\t0\\t1\\t0\\t1\\t2750',\n",
       " '0\\t18\\t100\\t0\\t1\\t0\\t0\\t0\\t2769',\n",
       " '0\\t18\\t100\\t1\\t1\\t0\\t0\\t0\\t2769',\n",
       " '0\\t15\\t98\\t1\\t0\\t0\\t0\\t0\\t2778',\n",
       " '0\\t25\\t118\\t0\\t1\\t0\\t0\\t0\\t2782',\n",
       " '0\\t20\\t120\\t1\\t0\\t0\\t0\\t1\\t2807',\n",
       " '0\\t28\\t120\\t0\\t1\\t0\\t0\\t0\\t2821',\n",
       " '0\\t32\\t121\\t1\\t0\\t0\\t0\\t0\\t2835',\n",
       " '0\\t31\\t100\\t0\\t0\\t0\\t0\\t1\\t2835',\n",
       " '0\\t36\\t202\\t0\\t0\\t0\\t0\\t0\\t2836',\n",
       " '0\\t28\\t120\\t1\\t0\\t0\\t0\\t0\\t2863',\n",
       " '0\\t25\\t120\\t1\\t0\\t0\\t0\\t1\\t2877',\n",
       " '0\\t28\\t167\\t0\\t0\\t0\\t0\\t0\\t2877',\n",
       " '0\\t17\\t122\\t0\\t1\\t0\\t0\\t0\\t2906',\n",
       " '0\\t29\\t150\\t0\\t0\\t0\\t0\\t0\\t2920',\n",
       " '0\\t26\\t168\\t1\\t1\\t0\\t0\\t0\\t2920',\n",
       " '0\\t17\\t113\\t1\\t0\\t0\\t0\\t0\\t2920',\n",
       " '0\\t17\\t113\\t1\\t0\\t0\\t0\\t0\\t2920',\n",
       " '0\\t24\\t90\\t0\\t1\\t1\\t0\\t0\\t2948',\n",
       " '0\\t35\\t121\\t1\\t1\\t1\\t1\\t0\\t2948',\n",
       " '0\\t25\\t155\\t0\\t1\\t1\\t0\\t0\\t2977',\n",
       " '0\\t25\\t125\\t1\\t0\\t0\\t0\\t0\\t2977',\n",
       " '0\\t29\\t140\\t0\\t1\\t0\\t0\\t0\\t2977',\n",
       " '0\\t19\\t138\\t0\\t1\\t0\\t1\\t0\\t2977',\n",
       " '0\\t27\\t124\\t0\\t1\\t0\\t0\\t0\\t2992',\n",
       " '0\\t31\\t115\\t0\\t1\\t0\\t0\\t0\\t3005',\n",
       " '0\\t33\\t109\\t0\\t1\\t0\\t0\\t0\\t3033',\n",
       " '0\\t21\\t185\\t1\\t1\\t0\\t0\\t0\\t3042',\n",
       " '0\\t19\\t189\\t0\\t0\\t0\\t0\\t0\\t3062',\n",
       " '0\\t23\\t130\\t1\\t0\\t0\\t0\\t0\\t3062',\n",
       " '0\\t21\\t160\\t0\\t0\\t0\\t0\\t0\\t3062',\n",
       " '0\\t18\\t90\\t0\\t1\\t0\\t0\\t1\\t3076',\n",
       " '0\\t18\\t90\\t0\\t1\\t0\\t0\\t1\\t3076',\n",
       " '0\\t32\\t132\\t0\\t0\\t0\\t0\\t0\\t3080',\n",
       " '0\\t19\\t132\\t1\\t0\\t0\\t0\\t0\\t3090',\n",
       " '0\\t24\\t115\\t0\\t0\\t0\\t0\\t0\\t3090',\n",
       " '0\\t22\\t85\\t1\\t1\\t0\\t0\\t0\\t3090',\n",
       " '0\\t22\\t120\\t0\\t0\\t0\\t1\\t0\\t3100',\n",
       " '0\\t23\\t128\\t1\\t0\\t0\\t0\\t0\\t3104',\n",
       " '0\\t22\\t130\\t0\\t1\\t0\\t0\\t0\\t3132',\n",
       " '0\\t30\\t95\\t0\\t1\\t0\\t0\\t0\\t3147',\n",
       " '0\\t19\\t115\\t1\\t0\\t0\\t0\\t0\\t3175',\n",
       " '0\\t16\\t110\\t1\\t0\\t0\\t0\\t0\\t3175',\n",
       " '0\\t21\\t110\\t1\\t1\\t0\\t0\\t1\\t3203',\n",
       " '0\\t30\\t153\\t1\\t0\\t0\\t0\\t0\\t3203',\n",
       " '0\\t20\\t103\\t1\\t0\\t0\\t0\\t0\\t3203',\n",
       " '0\\t17\\t119\\t1\\t0\\t0\\t0\\t0\\t3225',\n",
       " '0\\t17\\t119\\t1\\t0\\t0\\t0\\t0\\t3225',\n",
       " '0\\t23\\t119\\t1\\t0\\t0\\t0\\t0\\t3232',\n",
       " '0\\t24\\t110\\t1\\t0\\t0\\t0\\t0\\t3232',\n",
       " '0\\t28\\t140\\t0\\t0\\t0\\t0\\t0\\t3234',\n",
       " '0\\t26\\t133\\t1\\t1\\t0\\t0\\t0\\t3260',\n",
       " '0\\t20\\t169\\t1\\t0\\t1\\t0\\t1\\t3274',\n",
       " '0\\t24\\t115\\t1\\t0\\t0\\t0\\t0\\t3274',\n",
       " '0\\t28\\t250\\t1\\t1\\t0\\t0\\t0\\t3303',\n",
       " '0\\t20\\t141\\t0\\t0\\t0\\t0\\t1\\t3317',\n",
       " '0\\t22\\t158\\t1\\t0\\t1\\t0\\t0\\t3317',\n",
       " '0\\t22\\t112\\t0\\t1\\t1\\t0\\t0\\t3317',\n",
       " '0\\t31\\t150\\t1\\t1\\t0\\t0\\t0\\t3321',\n",
       " '0\\t23\\t115\\t1\\t1\\t0\\t0\\t0\\t3331',\n",
       " '0\\t16\\t112\\t1\\t0\\t0\\t0\\t0\\t3374',\n",
       " '0\\t16\\t135\\t0\\t1\\t0\\t0\\t0\\t3374',\n",
       " '0\\t18\\t229\\t1\\t0\\t0\\t0\\t0\\t3402',\n",
       " '0\\t25\\t140\\t0\\t0\\t0\\t0\\t0\\t3416',\n",
       " '0\\t32\\t134\\t0\\t1\\t1\\t0\\t0\\t3430',\n",
       " '0\\t20\\t121\\t1\\t1\\t0\\t0\\t0\\t3444',\n",
       " '0\\t23\\t190\\t0\\t0\\t0\\t0\\t0\\t3459',\n",
       " '0\\t22\\t131\\t0\\t0\\t0\\t0\\t0\\t3460',\n",
       " '0\\t32\\t170\\t0\\t0\\t0\\t0\\t0\\t3473',\n",
       " '0\\t30\\t110\\t1\\t0\\t0\\t0\\t0\\t3475',\n",
       " '0\\t20\\t127\\t1\\t0\\t0\\t0\\t0\\t3487',\n",
       " '0\\t23\\t123\\t1\\t0\\t0\\t0\\t0\\t3544',\n",
       " '0\\t17\\t120\\t1\\t1\\t0\\t0\\t0\\t3572',\n",
       " '0\\t19\\t105\\t1\\t0\\t0\\t0\\t0\\t3572',\n",
       " '0\\t23\\t130\\t0\\t0\\t0\\t0\\t0\\t3586',\n",
       " '0\\t36\\t175\\t0\\t0\\t0\\t0\\t0\\t3600',\n",
       " '0\\t22\\t125\\t0\\t0\\t0\\t0\\t0\\t3614',\n",
       " '0\\t24\\t133\\t0\\t0\\t0\\t0\\t0\\t3614',\n",
       " '0\\t21\\t134\\t1\\t0\\t0\\t0\\t0\\t3629',\n",
       " '0\\t19\\t235\\t0\\t1\\t0\\t1\\t0\\t3629',\n",
       " '0\\t25\\t200\\t0\\t0\\t1\\t0\\t1\\t3637',\n",
       " '0\\t16\\t135\\t0\\t1\\t0\\t0\\t0\\t3643',\n",
       " '0\\t29\\t135\\t0\\t0\\t0\\t0\\t0\\t3651',\n",
       " '0\\t29\\t154\\t0\\t0\\t0\\t0\\t0\\t3651',\n",
       " '0\\t19\\t147\\t0\\t1\\t0\\t0\\t0\\t3651',\n",
       " '0\\t19\\t147\\t0\\t1\\t0\\t0\\t0\\t3651',\n",
       " '0\\t30\\t137\\t0\\t0\\t0\\t0\\t0\\t3699',\n",
       " '0\\t24\\t110\\t0\\t0\\t0\\t0\\t0\\t3728',\n",
       " '0\\t19\\t184\\t0\\t1\\t0\\t1\\t0\\t3756',\n",
       " '0\\t24\\t110\\t0\\t0\\t1\\t0\\t0\\t3770',\n",
       " '0\\t23\\t110\\t0\\t0\\t0\\t0\\t0\\t3770',\n",
       " '0\\t20\\t120\\t1\\t0\\t0\\t0\\t0\\t3770',\n",
       " '0\\t25\\t141\\t0\\t0\\t0\\t1\\t0\\t3790',\n",
       " '0\\t30\\t112\\t0\\t0\\t0\\t0\\t0\\t3799',\n",
       " '0\\t22\\t169\\t0\\t0\\t0\\t0\\t0\\t3827',\n",
       " '0\\t18\\t120\\t0\\t1\\t0\\t0\\t0\\t3856',\n",
       " '0\\t16\\t170\\t1\\t0\\t0\\t0\\t0\\t3860',\n",
       " '0\\t32\\t186\\t0\\t0\\t0\\t0\\t0\\t3860',\n",
       " '0\\t18\\t120\\t1\\t0\\t0\\t0\\t0\\t3884',\n",
       " '0\\t29\\t130\\t0\\t1\\t0\\t0\\t0\\t3884',\n",
       " '0\\t33\\t117\\t0\\t0\\t0\\t0\\t1\\t3912',\n",
       " '0\\t20\\t170\\t0\\t1\\t0\\t0\\t0\\t3940',\n",
       " '0\\t28\\t134\\t1\\t0\\t0\\t0\\t0\\t3941',\n",
       " '0\\t14\\t135\\t0\\t0\\t1\\t0\\t0\\t3941',\n",
       " '0\\t28\\t130\\t1\\t0\\t0\\t0\\t0\\t3969',\n",
       " '0\\t25\\t120\\t0\\t0\\t0\\t0\\t0\\t3983',\n",
       " '0\\t16\\t135\\t1\\t0\\t0\\t0\\t0\\t3997',\n",
       " '0\\t20\\t158\\t0\\t0\\t0\\t0\\t0\\t3997',\n",
       " '0\\t26\\t160\\t0\\t0\\t0\\t0\\t0\\t4054',\n",
       " '0\\t21\\t115\\t0\\t0\\t0\\t0\\t0\\t4054',\n",
       " '0\\t22\\t129\\t0\\t0\\t0\\t0\\t0\\t4111',\n",
       " '0\\t25\\t130\\t0\\t0\\t0\\t0\\t0\\t4153',\n",
       " '0\\t31\\t120\\t0\\t0\\t0\\t0\\t0\\t4167',\n",
       " '0\\t35\\t170\\t0\\t0\\t1\\t0\\t0\\t4174',\n",
       " '0\\t19\\t120\\t0\\t1\\t0\\t1\\t0\\t4238',\n",
       " '0\\t24\\t216\\t0\\t0\\t0\\t0\\t0\\t4593',\n",
       " '0\\t45\\t123\\t0\\t0\\t1\\t0\\t0\\t4990',\n",
       " '',\n",
       " '']"
      ]
     },
     "execution_count": 14,
     "metadata": {},
     "output_type": "execute_result"
    }
   ],
   "source": [
    "birth_data"
   ]
  },
  {
   "cell_type": "code",
   "execution_count": 15,
   "metadata": {},
   "outputs": [
    {
     "data": {
      "text/plain": [
       "['LOW', 'AGE', 'LWT', 'RACE', 'SMOKE', 'PTL', 'HT', 'UI', 'BWT']"
      ]
     },
     "execution_count": 15,
     "metadata": {},
     "output_type": "execute_result"
    }
   ],
   "source": [
    "birth_header = birth_data[0].split('\\t')\n",
    "birth_header"
   ]
  },
  {
   "cell_type": "code",
   "execution_count": 18,
   "metadata": {},
   "outputs": [],
   "source": [
    "birth_data = [[float(x) for x in y.split('\\t') if len(x)>=1] for y in birth_data[1:] if len(y)>=1]"
   ]
  },
  {
   "cell_type": "code",
   "execution_count": 19,
   "metadata": {},
   "outputs": [
    {
     "data": {
      "text/plain": [
       "[[1.0, 28.0, 113.0, 1.0, 1.0, 1.0, 0.0, 1.0, 709.0],\n",
       " [1.0, 29.0, 130.0, 0.0, 0.0, 0.0, 0.0, 1.0, 1021.0],\n",
       " [1.0, 34.0, 187.0, 1.0, 1.0, 0.0, 1.0, 0.0, 1135.0],\n",
       " [1.0, 25.0, 105.0, 1.0, 0.0, 1.0, 1.0, 0.0, 1330.0],\n",
       " [1.0, 25.0, 85.0, 1.0, 0.0, 0.0, 0.0, 1.0, 1474.0],\n",
       " [1.0, 27.0, 150.0, 1.0, 0.0, 0.0, 0.0, 0.0, 1588.0],\n",
       " [1.0, 23.0, 97.0, 1.0, 0.0, 0.0, 0.0, 1.0, 1588.0],\n",
       " [1.0, 24.0, 128.0, 1.0, 0.0, 1.0, 0.0, 0.0, 1701.0],\n",
       " [1.0, 24.0, 132.0, 1.0, 0.0, 0.0, 1.0, 0.0, 1729.0],\n",
       " [1.0, 21.0, 165.0, 0.0, 1.0, 0.0, 1.0, 0.0, 1790.0],\n",
       " [1.0, 32.0, 105.0, 1.0, 1.0, 0.0, 0.0, 0.0, 1818.0],\n",
       " [1.0, 19.0, 91.0, 0.0, 1.0, 1.0, 0.0, 1.0, 1885.0],\n",
       " [1.0, 25.0, 115.0, 1.0, 0.0, 0.0, 0.0, 0.0, 1893.0],\n",
       " [1.0, 16.0, 130.0, 1.0, 0.0, 0.0, 0.0, 0.0, 1899.0],\n",
       " [1.0, 25.0, 92.0, 0.0, 1.0, 0.0, 0.0, 0.0, 1928.0],\n",
       " [1.0, 20.0, 150.0, 0.0, 1.0, 0.0, 0.0, 0.0, 1928.0],\n",
       " [1.0, 21.0, 190.0, 1.0, 0.0, 0.0, 0.0, 1.0, 1928.0],\n",
       " [1.0, 24.0, 155.0, 0.0, 1.0, 1.0, 0.0, 0.0, 1936.0],\n",
       " [1.0, 21.0, 103.0, 1.0, 0.0, 0.0, 0.0, 0.0, 1970.0],\n",
       " [1.0, 20.0, 125.0, 1.0, 0.0, 0.0, 0.0, 1.0, 2055.0],\n",
       " [1.0, 25.0, 89.0, 1.0, 0.0, 1.0, 0.0, 0.0, 2055.0],\n",
       " [1.0, 19.0, 102.0, 0.0, 0.0, 0.0, 0.0, 0.0, 2082.0],\n",
       " [1.0, 19.0, 112.0, 0.0, 1.0, 0.0, 0.0, 1.0, 2084.0],\n",
       " [1.0, 26.0, 117.0, 0.0, 1.0, 1.0, 0.0, 1.0, 2084.0],\n",
       " [1.0, 24.0, 138.0, 0.0, 0.0, 0.0, 0.0, 0.0, 2100.0],\n",
       " [1.0, 17.0, 130.0, 1.0, 1.0, 1.0, 0.0, 1.0, 2125.0],\n",
       " [1.0, 20.0, 120.0, 1.0, 1.0, 0.0, 0.0, 0.0, 2126.0],\n",
       " [1.0, 22.0, 130.0, 0.0, 1.0, 1.0, 0.0, 1.0, 2187.0],\n",
       " [1.0, 27.0, 130.0, 1.0, 0.0, 0.0, 0.0, 1.0, 2187.0],\n",
       " [1.0, 20.0, 80.0, 1.0, 1.0, 0.0, 0.0, 1.0, 2211.0],\n",
       " [1.0, 17.0, 110.0, 0.0, 1.0, 0.0, 0.0, 0.0, 2225.0],\n",
       " [1.0, 25.0, 105.0, 1.0, 0.0, 1.0, 0.0, 0.0, 2240.0],\n",
       " [1.0, 20.0, 109.0, 1.0, 0.0, 0.0, 0.0, 0.0, 2240.0],\n",
       " [1.0, 18.0, 148.0, 1.0, 0.0, 0.0, 0.0, 0.0, 2282.0],\n",
       " [1.0, 18.0, 110.0, 1.0, 1.0, 1.0, 0.0, 0.0, 2296.0],\n",
       " [1.0, 20.0, 121.0, 0.0, 1.0, 1.0, 0.0, 1.0, 2296.0],\n",
       " [1.0, 21.0, 100.0, 1.0, 0.0, 1.0, 0.0, 0.0, 2301.0],\n",
       " [1.0, 26.0, 96.0, 1.0, 0.0, 0.0, 0.0, 0.0, 2325.0],\n",
       " [1.0, 31.0, 102.0, 0.0, 1.0, 1.0, 0.0, 0.0, 2353.0],\n",
       " [1.0, 15.0, 110.0, 0.0, 0.0, 0.0, 0.0, 0.0, 2353.0],\n",
       " [1.0, 23.0, 187.0, 1.0, 1.0, 0.0, 0.0, 0.0, 2367.0],\n",
       " [1.0, 20.0, 122.0, 1.0, 1.0, 1.0, 0.0, 0.0, 2381.0],\n",
       " [1.0, 24.0, 105.0, 1.0, 1.0, 0.0, 0.0, 0.0, 2381.0],\n",
       " [1.0, 15.0, 115.0, 1.0, 0.0, 0.0, 0.0, 1.0, 2381.0],\n",
       " [1.0, 23.0, 120.0, 1.0, 0.0, 0.0, 0.0, 0.0, 2395.0],\n",
       " [1.0, 30.0, 142.0, 0.0, 1.0, 1.0, 0.0, 0.0, 2410.0],\n",
       " [1.0, 22.0, 130.0, 0.0, 1.0, 0.0, 0.0, 0.0, 2410.0],\n",
       " [1.0, 17.0, 120.0, 0.0, 1.0, 0.0, 0.0, 0.0, 2414.0],\n",
       " [1.0, 23.0, 110.0, 0.0, 1.0, 1.0, 0.0, 0.0, 2424.0],\n",
       " [1.0, 17.0, 120.0, 1.0, 0.0, 0.0, 0.0, 0.0, 2438.0],\n",
       " [1.0, 26.0, 154.0, 1.0, 0.0, 1.0, 1.0, 0.0, 2442.0],\n",
       " [1.0, 20.0, 105.0, 1.0, 0.0, 0.0, 0.0, 0.0, 2450.0],\n",
       " [1.0, 26.0, 168.0, 0.0, 1.0, 0.0, 0.0, 0.0, 2466.0],\n",
       " [1.0, 14.0, 101.0, 1.0, 1.0, 1.0, 0.0, 0.0, 2466.0],\n",
       " [1.0, 28.0, 95.0, 0.0, 1.0, 0.0, 0.0, 0.0, 2466.0],\n",
       " [1.0, 14.0, 100.0, 1.0, 0.0, 0.0, 0.0, 0.0, 2495.0],\n",
       " [1.0, 23.0, 94.0, 1.0, 1.0, 0.0, 0.0, 0.0, 2495.0],\n",
       " [1.0, 17.0, 142.0, 1.0, 0.0, 0.0, 1.0, 0.0, 2495.0],\n",
       " [1.0, 21.0, 130.0, 0.0, 1.0, 0.0, 1.0, 0.0, 2495.0],\n",
       " [0.0, 19.0, 182.0, 1.0, 0.0, 0.0, 0.0, 1.0, 2523.0],\n",
       " [0.0, 33.0, 155.0, 1.0, 0.0, 0.0, 0.0, 0.0, 2551.0],\n",
       " [0.0, 20.0, 105.0, 0.0, 1.0, 0.0, 0.0, 0.0, 2557.0],\n",
       " [0.0, 21.0, 108.0, 0.0, 1.0, 0.0, 0.0, 1.0, 2594.0],\n",
       " [0.0, 18.0, 107.0, 0.0, 1.0, 0.0, 0.0, 1.0, 2600.0],\n",
       " [0.0, 21.0, 124.0, 1.0, 0.0, 0.0, 0.0, 0.0, 2622.0],\n",
       " [0.0, 22.0, 118.0, 0.0, 0.0, 0.0, 0.0, 0.0, 2637.0],\n",
       " [0.0, 17.0, 103.0, 1.0, 0.0, 0.0, 0.0, 0.0, 2637.0],\n",
       " [0.0, 29.0, 123.0, 0.0, 1.0, 0.0, 0.0, 0.0, 2663.0],\n",
       " [0.0, 26.0, 113.0, 0.0, 1.0, 0.0, 0.0, 0.0, 2665.0],\n",
       " [0.0, 19.0, 95.0, 1.0, 0.0, 0.0, 0.0, 0.0, 2722.0],\n",
       " [0.0, 19.0, 150.0, 1.0, 0.0, 0.0, 0.0, 0.0, 2733.0],\n",
       " [0.0, 22.0, 95.0, 1.0, 0.0, 0.0, 1.0, 0.0, 2750.0],\n",
       " [0.0, 30.0, 107.0, 1.0, 0.0, 1.0, 0.0, 1.0, 2750.0],\n",
       " [0.0, 18.0, 100.0, 0.0, 1.0, 0.0, 0.0, 0.0, 2769.0],\n",
       " [0.0, 18.0, 100.0, 1.0, 1.0, 0.0, 0.0, 0.0, 2769.0],\n",
       " [0.0, 15.0, 98.0, 1.0, 0.0, 0.0, 0.0, 0.0, 2778.0],\n",
       " [0.0, 25.0, 118.0, 0.0, 1.0, 0.0, 0.0, 0.0, 2782.0],\n",
       " [0.0, 20.0, 120.0, 1.0, 0.0, 0.0, 0.0, 1.0, 2807.0],\n",
       " [0.0, 28.0, 120.0, 0.0, 1.0, 0.0, 0.0, 0.0, 2821.0],\n",
       " [0.0, 32.0, 121.0, 1.0, 0.0, 0.0, 0.0, 0.0, 2835.0],\n",
       " [0.0, 31.0, 100.0, 0.0, 0.0, 0.0, 0.0, 1.0, 2835.0],\n",
       " [0.0, 36.0, 202.0, 0.0, 0.0, 0.0, 0.0, 0.0, 2836.0],\n",
       " [0.0, 28.0, 120.0, 1.0, 0.0, 0.0, 0.0, 0.0, 2863.0],\n",
       " [0.0, 25.0, 120.0, 1.0, 0.0, 0.0, 0.0, 1.0, 2877.0],\n",
       " [0.0, 28.0, 167.0, 0.0, 0.0, 0.0, 0.0, 0.0, 2877.0],\n",
       " [0.0, 17.0, 122.0, 0.0, 1.0, 0.0, 0.0, 0.0, 2906.0],\n",
       " [0.0, 29.0, 150.0, 0.0, 0.0, 0.0, 0.0, 0.0, 2920.0],\n",
       " [0.0, 26.0, 168.0, 1.0, 1.0, 0.0, 0.0, 0.0, 2920.0],\n",
       " [0.0, 17.0, 113.0, 1.0, 0.0, 0.0, 0.0, 0.0, 2920.0],\n",
       " [0.0, 17.0, 113.0, 1.0, 0.0, 0.0, 0.0, 0.0, 2920.0],\n",
       " [0.0, 24.0, 90.0, 0.0, 1.0, 1.0, 0.0, 0.0, 2948.0],\n",
       " [0.0, 35.0, 121.0, 1.0, 1.0, 1.0, 1.0, 0.0, 2948.0],\n",
       " [0.0, 25.0, 155.0, 0.0, 1.0, 1.0, 0.0, 0.0, 2977.0],\n",
       " [0.0, 25.0, 125.0, 1.0, 0.0, 0.0, 0.0, 0.0, 2977.0],\n",
       " [0.0, 29.0, 140.0, 0.0, 1.0, 0.0, 0.0, 0.0, 2977.0],\n",
       " [0.0, 19.0, 138.0, 0.0, 1.0, 0.0, 1.0, 0.0, 2977.0],\n",
       " [0.0, 27.0, 124.0, 0.0, 1.0, 0.0, 0.0, 0.0, 2992.0],\n",
       " [0.0, 31.0, 115.0, 0.0, 1.0, 0.0, 0.0, 0.0, 3005.0],\n",
       " [0.0, 33.0, 109.0, 0.0, 1.0, 0.0, 0.0, 0.0, 3033.0],\n",
       " [0.0, 21.0, 185.0, 1.0, 1.0, 0.0, 0.0, 0.0, 3042.0],\n",
       " [0.0, 19.0, 189.0, 0.0, 0.0, 0.0, 0.0, 0.0, 3062.0],\n",
       " [0.0, 23.0, 130.0, 1.0, 0.0, 0.0, 0.0, 0.0, 3062.0],\n",
       " [0.0, 21.0, 160.0, 0.0, 0.0, 0.0, 0.0, 0.0, 3062.0],\n",
       " [0.0, 18.0, 90.0, 0.0, 1.0, 0.0, 0.0, 1.0, 3076.0],\n",
       " [0.0, 18.0, 90.0, 0.0, 1.0, 0.0, 0.0, 1.0, 3076.0],\n",
       " [0.0, 32.0, 132.0, 0.0, 0.0, 0.0, 0.0, 0.0, 3080.0],\n",
       " [0.0, 19.0, 132.0, 1.0, 0.0, 0.0, 0.0, 0.0, 3090.0],\n",
       " [0.0, 24.0, 115.0, 0.0, 0.0, 0.0, 0.0, 0.0, 3090.0],\n",
       " [0.0, 22.0, 85.0, 1.0, 1.0, 0.0, 0.0, 0.0, 3090.0],\n",
       " [0.0, 22.0, 120.0, 0.0, 0.0, 0.0, 1.0, 0.0, 3100.0],\n",
       " [0.0, 23.0, 128.0, 1.0, 0.0, 0.0, 0.0, 0.0, 3104.0],\n",
       " [0.0, 22.0, 130.0, 0.0, 1.0, 0.0, 0.0, 0.0, 3132.0],\n",
       " [0.0, 30.0, 95.0, 0.0, 1.0, 0.0, 0.0, 0.0, 3147.0],\n",
       " [0.0, 19.0, 115.0, 1.0, 0.0, 0.0, 0.0, 0.0, 3175.0],\n",
       " [0.0, 16.0, 110.0, 1.0, 0.0, 0.0, 0.0, 0.0, 3175.0],\n",
       " [0.0, 21.0, 110.0, 1.0, 1.0, 0.0, 0.0, 1.0, 3203.0],\n",
       " [0.0, 30.0, 153.0, 1.0, 0.0, 0.0, 0.0, 0.0, 3203.0],\n",
       " [0.0, 20.0, 103.0, 1.0, 0.0, 0.0, 0.0, 0.0, 3203.0],\n",
       " [0.0, 17.0, 119.0, 1.0, 0.0, 0.0, 0.0, 0.0, 3225.0],\n",
       " [0.0, 17.0, 119.0, 1.0, 0.0, 0.0, 0.0, 0.0, 3225.0],\n",
       " [0.0, 23.0, 119.0, 1.0, 0.0, 0.0, 0.0, 0.0, 3232.0],\n",
       " [0.0, 24.0, 110.0, 1.0, 0.0, 0.0, 0.0, 0.0, 3232.0],\n",
       " [0.0, 28.0, 140.0, 0.0, 0.0, 0.0, 0.0, 0.0, 3234.0],\n",
       " [0.0, 26.0, 133.0, 1.0, 1.0, 0.0, 0.0, 0.0, 3260.0],\n",
       " [0.0, 20.0, 169.0, 1.0, 0.0, 1.0, 0.0, 1.0, 3274.0],\n",
       " [0.0, 24.0, 115.0, 1.0, 0.0, 0.0, 0.0, 0.0, 3274.0],\n",
       " [0.0, 28.0, 250.0, 1.0, 1.0, 0.0, 0.0, 0.0, 3303.0],\n",
       " [0.0, 20.0, 141.0, 0.0, 0.0, 0.0, 0.0, 1.0, 3317.0],\n",
       " [0.0, 22.0, 158.0, 1.0, 0.0, 1.0, 0.0, 0.0, 3317.0],\n",
       " [0.0, 22.0, 112.0, 0.0, 1.0, 1.0, 0.0, 0.0, 3317.0],\n",
       " [0.0, 31.0, 150.0, 1.0, 1.0, 0.0, 0.0, 0.0, 3321.0],\n",
       " [0.0, 23.0, 115.0, 1.0, 1.0, 0.0, 0.0, 0.0, 3331.0],\n",
       " [0.0, 16.0, 112.0, 1.0, 0.0, 0.0, 0.0, 0.0, 3374.0],\n",
       " [0.0, 16.0, 135.0, 0.0, 1.0, 0.0, 0.0, 0.0, 3374.0],\n",
       " [0.0, 18.0, 229.0, 1.0, 0.0, 0.0, 0.0, 0.0, 3402.0],\n",
       " [0.0, 25.0, 140.0, 0.0, 0.0, 0.0, 0.0, 0.0, 3416.0],\n",
       " [0.0, 32.0, 134.0, 0.0, 1.0, 1.0, 0.0, 0.0, 3430.0],\n",
       " [0.0, 20.0, 121.0, 1.0, 1.0, 0.0, 0.0, 0.0, 3444.0],\n",
       " [0.0, 23.0, 190.0, 0.0, 0.0, 0.0, 0.0, 0.0, 3459.0],\n",
       " [0.0, 22.0, 131.0, 0.0, 0.0, 0.0, 0.0, 0.0, 3460.0],\n",
       " [0.0, 32.0, 170.0, 0.0, 0.0, 0.0, 0.0, 0.0, 3473.0],\n",
       " [0.0, 30.0, 110.0, 1.0, 0.0, 0.0, 0.0, 0.0, 3475.0],\n",
       " [0.0, 20.0, 127.0, 1.0, 0.0, 0.0, 0.0, 0.0, 3487.0],\n",
       " [0.0, 23.0, 123.0, 1.0, 0.0, 0.0, 0.0, 0.0, 3544.0],\n",
       " [0.0, 17.0, 120.0, 1.0, 1.0, 0.0, 0.0, 0.0, 3572.0],\n",
       " [0.0, 19.0, 105.0, 1.0, 0.0, 0.0, 0.0, 0.0, 3572.0],\n",
       " [0.0, 23.0, 130.0, 0.0, 0.0, 0.0, 0.0, 0.0, 3586.0],\n",
       " [0.0, 36.0, 175.0, 0.0, 0.0, 0.0, 0.0, 0.0, 3600.0],\n",
       " [0.0, 22.0, 125.0, 0.0, 0.0, 0.0, 0.0, 0.0, 3614.0],\n",
       " [0.0, 24.0, 133.0, 0.0, 0.0, 0.0, 0.0, 0.0, 3614.0],\n",
       " [0.0, 21.0, 134.0, 1.0, 0.0, 0.0, 0.0, 0.0, 3629.0],\n",
       " [0.0, 19.0, 235.0, 0.0, 1.0, 0.0, 1.0, 0.0, 3629.0],\n",
       " [0.0, 25.0, 200.0, 0.0, 0.0, 1.0, 0.0, 1.0, 3637.0],\n",
       " [0.0, 16.0, 135.0, 0.0, 1.0, 0.0, 0.0, 0.0, 3643.0],\n",
       " [0.0, 29.0, 135.0, 0.0, 0.0, 0.0, 0.0, 0.0, 3651.0],\n",
       " [0.0, 29.0, 154.0, 0.0, 0.0, 0.0, 0.0, 0.0, 3651.0],\n",
       " [0.0, 19.0, 147.0, 0.0, 1.0, 0.0, 0.0, 0.0, 3651.0],\n",
       " [0.0, 19.0, 147.0, 0.0, 1.0, 0.0, 0.0, 0.0, 3651.0],\n",
       " [0.0, 30.0, 137.0, 0.0, 0.0, 0.0, 0.0, 0.0, 3699.0],\n",
       " [0.0, 24.0, 110.0, 0.0, 0.0, 0.0, 0.0, 0.0, 3728.0],\n",
       " [0.0, 19.0, 184.0, 0.0, 1.0, 0.0, 1.0, 0.0, 3756.0],\n",
       " [0.0, 24.0, 110.0, 0.0, 0.0, 1.0, 0.0, 0.0, 3770.0],\n",
       " [0.0, 23.0, 110.0, 0.0, 0.0, 0.0, 0.0, 0.0, 3770.0],\n",
       " [0.0, 20.0, 120.0, 1.0, 0.0, 0.0, 0.0, 0.0, 3770.0],\n",
       " [0.0, 25.0, 141.0, 0.0, 0.0, 0.0, 1.0, 0.0, 3790.0],\n",
       " [0.0, 30.0, 112.0, 0.0, 0.0, 0.0, 0.0, 0.0, 3799.0],\n",
       " [0.0, 22.0, 169.0, 0.0, 0.0, 0.0, 0.0, 0.0, 3827.0],\n",
       " [0.0, 18.0, 120.0, 0.0, 1.0, 0.0, 0.0, 0.0, 3856.0],\n",
       " [0.0, 16.0, 170.0, 1.0, 0.0, 0.0, 0.0, 0.0, 3860.0],\n",
       " [0.0, 32.0, 186.0, 0.0, 0.0, 0.0, 0.0, 0.0, 3860.0],\n",
       " [0.0, 18.0, 120.0, 1.0, 0.0, 0.0, 0.0, 0.0, 3884.0],\n",
       " [0.0, 29.0, 130.0, 0.0, 1.0, 0.0, 0.0, 0.0, 3884.0],\n",
       " [0.0, 33.0, 117.0, 0.0, 0.0, 0.0, 0.0, 1.0, 3912.0],\n",
       " [0.0, 20.0, 170.0, 0.0, 1.0, 0.0, 0.0, 0.0, 3940.0],\n",
       " [0.0, 28.0, 134.0, 1.0, 0.0, 0.0, 0.0, 0.0, 3941.0],\n",
       " [0.0, 14.0, 135.0, 0.0, 0.0, 1.0, 0.0, 0.0, 3941.0],\n",
       " [0.0, 28.0, 130.0, 1.0, 0.0, 0.0, 0.0, 0.0, 3969.0],\n",
       " [0.0, 25.0, 120.0, 0.0, 0.0, 0.0, 0.0, 0.0, 3983.0],\n",
       " [0.0, 16.0, 135.0, 1.0, 0.0, 0.0, 0.0, 0.0, 3997.0],\n",
       " [0.0, 20.0, 158.0, 0.0, 0.0, 0.0, 0.0, 0.0, 3997.0],\n",
       " [0.0, 26.0, 160.0, 0.0, 0.0, 0.0, 0.0, 0.0, 4054.0],\n",
       " [0.0, 21.0, 115.0, 0.0, 0.0, 0.0, 0.0, 0.0, 4054.0],\n",
       " [0.0, 22.0, 129.0, 0.0, 0.0, 0.0, 0.0, 0.0, 4111.0],\n",
       " [0.0, 25.0, 130.0, 0.0, 0.0, 0.0, 0.0, 0.0, 4153.0],\n",
       " [0.0, 31.0, 120.0, 0.0, 0.0, 0.0, 0.0, 0.0, 4167.0],\n",
       " [0.0, 35.0, 170.0, 0.0, 0.0, 1.0, 0.0, 0.0, 4174.0],\n",
       " [0.0, 19.0, 120.0, 0.0, 1.0, 0.0, 1.0, 0.0, 4238.0],\n",
       " [0.0, 24.0, 216.0, 0.0, 0.0, 0.0, 0.0, 0.0, 4593.0],\n",
       " [0.0, 45.0, 123.0, 0.0, 0.0, 1.0, 0.0, 0.0, 4990.0]]"
      ]
     },
     "execution_count": 19,
     "metadata": {},
     "output_type": "execute_result"
    }
   ],
   "source": [
    "birth_data"
   ]
  },
  {
   "cell_type": "code",
   "execution_count": 20,
   "metadata": {},
   "outputs": [
    {
     "data": {
      "text/plain": [
       "189"
      ]
     },
     "execution_count": 20,
     "metadata": {},
     "output_type": "execute_result"
    }
   ],
   "source": [
    "len(birth_data)"
   ]
  },
  {
   "cell_type": "code",
   "execution_count": 21,
   "metadata": {},
   "outputs": [
    {
     "data": {
      "text/plain": [
       "[1.0, 28.0, 113.0, 1.0, 1.0, 1.0, 0.0, 1.0, 709.0]"
      ]
     },
     "execution_count": 21,
     "metadata": {},
     "output_type": "execute_result"
    }
   ],
   "source": [
    "birth_data[0]"
   ]
  },
  {
   "cell_type": "markdown",
   "metadata": {},
   "source": [
    "# Las casas de Boston\n",
    "- Referencia de header\n",
    "Housing Values in Suburbs of Boston\n",
    "\n",
    "The medv variable is the target variable.\n",
    "Data description\n",
    "\n",
    "The Boston data frame has 506 rows and 14 columns.\n",
    "\n",
    "This data frame contains the following columns:\n",
    "\n",
    "- crim\n",
    "per capita crime rate by town.\n",
    "\n",
    "- zn\n",
    "proportion of residential land zoned for lots over 25,000 sq.ft.\n",
    "\n",
    "- indus\n",
    "proportion of non-retail business acres per town.\n",
    "\n",
    "- chas\n",
    "Charles River dummy variable (= 1 if tract bounds river; 0 otherwise).\n",
    "\n",
    "- nox\n",
    "nitrogen oxides concentration (parts per 10 million).\n",
    "\n",
    "- rm\n",
    "average number of rooms per dwelling.\n",
    "\n",
    "- age\n",
    "proportion of owner-occupied units built prior to 1940.\n",
    "\n",
    "- dis\n",
    "weighted mean of distances to five Boston employment centres.\n",
    "\n",
    "- rad\n",
    "index of accessibility to radial highways.\n",
    "\n",
    "- tax\n",
    "full-value property-tax rate per USD 10,000.\n",
    "\n",
    "- ptratio\n",
    "pupil-teacher ratio by town.\n",
    "\n",
    "- black\n",
    "1000(Bk - 0.63)^2 where Bk is the proportion of blacks by town.\n",
    "\n",
    "- lstat\n",
    "lower status of the population (percent).\n",
    "\n",
    "- medv\n",
    "median value of owner-occupied homes in USD 1000s."
   ]
  },
  {
   "cell_type": "code",
   "execution_count": 22,
   "metadata": {},
   "outputs": [],
   "source": [
    "from keras.datasets import boston_housing"
   ]
  },
  {
   "cell_type": "code",
   "execution_count": 23,
   "metadata": {},
   "outputs": [
    {
     "name": "stdout",
     "output_type": "stream",
     "text": [
      "Downloading data from https://s3.amazonaws.com/keras-datasets/boston_housing.npz\n",
      "57344/57026 [==============================] - 0s 4us/step\n"
     ]
    }
   ],
   "source": [
    "(x_train,y_train), (x_test, y_test) = boston_housing.load_data()"
   ]
  },
  {
   "cell_type": "code",
   "execution_count": 24,
   "metadata": {},
   "outputs": [
    {
     "data": {
      "text/plain": [
       "(404, 13)"
      ]
     },
     "execution_count": 24,
     "metadata": {},
     "output_type": "execute_result"
    }
   ],
   "source": [
    "x_train.shape"
   ]
  },
  {
   "cell_type": "code",
   "execution_count": 25,
   "metadata": {},
   "outputs": [
    {
     "data": {
      "text/plain": [
       "(404,)"
      ]
     },
     "execution_count": 25,
     "metadata": {},
     "output_type": "execute_result"
    }
   ],
   "source": [
    "y_train.shape"
   ]
  },
  {
   "cell_type": "code",
   "execution_count": 26,
   "metadata": {},
   "outputs": [
    {
     "data": {
      "text/plain": [
       "(102, 13)"
      ]
     },
     "execution_count": 26,
     "metadata": {},
     "output_type": "execute_result"
    }
   ],
   "source": [
    "x_test.shape"
   ]
  },
  {
   "cell_type": "code",
   "execution_count": 27,
   "metadata": {},
   "outputs": [
    {
     "data": {
      "text/plain": [
       "(102,)"
      ]
     },
     "execution_count": 27,
     "metadata": {},
     "output_type": "execute_result"
    }
   ],
   "source": [
    "y_test.shape"
   ]
  },
  {
   "cell_type": "markdown",
   "metadata": {},
   "source": [
    "## Creando las cabeceras, pues el dataset no lo tiene"
   ]
  },
  {
   "cell_type": "code",
   "execution_count": 29,
   "metadata": {},
   "outputs": [],
   "source": [
    "housing_header = ['CRIM','ZN','INDUS','CHAS', 'NOX', 'RM','AGE','DIS','RAD','TAX','PTRATIO','BLACK','LSTAT','MEDV']"
   ]
  },
  {
   "cell_type": "markdown",
   "metadata": {},
   "source": [
    "# Dataset del MNIST"
   ]
  },
  {
   "cell_type": "code",
   "execution_count": 30,
   "metadata": {},
   "outputs": [],
   "source": [
    "from tensorflow.examples.tutorials.mnist import input_dataput_data"
   ]
  },
  {
   "cell_type": "code",
   "execution_count": 31,
   "metadata": {},
   "outputs": [
    {
     "name": "stdout",
     "output_type": "stream",
     "text": [
      "WARNING:tensorflow:From <ipython-input-31-a839aeb82f4b>:1: read_data_sets (from tensorflow.contrib.learn.python.learn.datasets.mnist) is deprecated and will be removed in a future version.\n",
      "Instructions for updating:\n",
      "Please use alternatives such as official/mnist/dataset.py from tensorflow/models.\n",
      "WARNING:tensorflow:From C:\\Users\\sysadmin\\AppData\\Local\\conda\\conda\\envs\\tensorflow_env\\lib\\site-packages\\tensorflow\\contrib\\learn\\python\\learn\\datasets\\mnist.py:260: maybe_download (from tensorflow.contrib.learn.python.learn.datasets.base) is deprecated and will be removed in a future version.\n",
      "Instructions for updating:\n",
      "Please write your own downloading logic.\n",
      "WARNING:tensorflow:From C:\\Users\\sysadmin\\AppData\\Local\\conda\\conda\\envs\\tensorflow_env\\lib\\site-packages\\tensorflow\\contrib\\learn\\python\\learn\\datasets\\base.py:252: _internal_retry.<locals>.wrap.<locals>.wrapped_fn (from tensorflow.contrib.learn.python.learn.datasets.base) is deprecated and will be removed in a future version.\n",
      "Instructions for updating:\n",
      "Please use urllib or similar directly.\n",
      "Successfully downloaded train-images-idx3-ubyte.gz 9912422 bytes.\n",
      "WARNING:tensorflow:From C:\\Users\\sysadmin\\AppData\\Local\\conda\\conda\\envs\\tensorflow_env\\lib\\site-packages\\tensorflow\\contrib\\learn\\python\\learn\\datasets\\mnist.py:262: extract_images (from tensorflow.contrib.learn.python.learn.datasets.mnist) is deprecated and will be removed in a future version.\n",
      "Instructions for updating:\n",
      "Please use tf.data to implement this functionality.\n",
      "Extracting MNIST_data/train-images-idx3-ubyte.gz\n",
      "Successfully downloaded train-labels-idx1-ubyte.gz 28881 bytes.\n",
      "WARNING:tensorflow:From C:\\Users\\sysadmin\\AppData\\Local\\conda\\conda\\envs\\tensorflow_env\\lib\\site-packages\\tensorflow\\contrib\\learn\\python\\learn\\datasets\\mnist.py:267: extract_labels (from tensorflow.contrib.learn.python.learn.datasets.mnist) is deprecated and will be removed in a future version.\n",
      "Instructions for updating:\n",
      "Please use tf.data to implement this functionality.\n",
      "Extracting MNIST_data/train-labels-idx1-ubyte.gz\n",
      "WARNING:tensorflow:From C:\\Users\\sysadmin\\AppData\\Local\\conda\\conda\\envs\\tensorflow_env\\lib\\site-packages\\tensorflow\\contrib\\learn\\python\\learn\\datasets\\mnist.py:110: dense_to_one_hot (from tensorflow.contrib.learn.python.learn.datasets.mnist) is deprecated and will be removed in a future version.\n",
      "Instructions for updating:\n",
      "Please use tf.one_hot on tensors.\n",
      "Successfully downloaded t10k-images-idx3-ubyte.gz 1648877 bytes.\n",
      "Extracting MNIST_data/t10k-images-idx3-ubyte.gz\n",
      "Successfully downloaded t10k-labels-idx1-ubyte.gz 4542 bytes.\n",
      "Extracting MNIST_data/t10k-labels-idx1-ubyte.gz\n",
      "WARNING:tensorflow:From C:\\Users\\sysadmin\\AppData\\Local\\conda\\conda\\envs\\tensorflow_env\\lib\\site-packages\\tensorflow\\contrib\\learn\\python\\learn\\datasets\\mnist.py:290: DataSet.__init__ (from tensorflow.contrib.learn.python.learn.datasets.mnist) is deprecated and will be removed in a future version.\n",
      "Instructions for updating:\n",
      "Please use alternatives such as official/mnist/dataset.py from tensorflow/models.\n"
     ]
    }
   ],
   "source": [
    "mnist = input_data.read_data_sets(\"MNIST_data/\", one_hot=True)"
   ]
  },
  {
   "cell_type": "code",
   "execution_count": 32,
   "metadata": {},
   "outputs": [
    {
     "data": {
      "text/plain": [
       "55000"
      ]
     },
     "execution_count": 32,
     "metadata": {},
     "output_type": "execute_result"
    }
   ],
   "source": [
    "len(mnist.train.images)"
   ]
  },
  {
   "cell_type": "code",
   "execution_count": 33,
   "metadata": {},
   "outputs": [
    {
     "data": {
      "text/plain": [
       "10000"
      ]
     },
     "execution_count": 33,
     "metadata": {},
     "output_type": "execute_result"
    }
   ],
   "source": [
    "len(mnist.test.images)"
   ]
  },
  {
   "cell_type": "code",
   "execution_count": 34,
   "metadata": {},
   "outputs": [
    {
     "data": {
      "text/plain": [
       "5000"
      ]
     },
     "execution_count": 34,
     "metadata": {},
     "output_type": "execute_result"
    }
   ],
   "source": [
    "len(mnist.validation.images)"
   ]
  },
  {
   "cell_type": "code",
   "execution_count": 42,
   "metadata": {},
   "outputs": [
    {
     "data": {
      "text/plain": [
       "array([0., 0., 0., 0., 0., 0., 0., 0., 0., 1.])"
      ]
     },
     "execution_count": 42,
     "metadata": {},
     "output_type": "execute_result"
    }
   ],
   "source": [
    "mnist.train.labels[8,:]"
   ]
  },
  {
   "cell_type": "code",
   "execution_count": 36,
   "metadata": {},
   "outputs": [],
   "source": [
    "import matplotlib.pyplot as plt"
   ]
  },
  {
   "cell_type": "code",
   "execution_count": 43,
   "metadata": {},
   "outputs": [
    {
     "data": {
      "text/plain": [
       "<matplotlib.image.AxesImage at 0x30896892e8>"
      ]
     },
     "execution_count": 43,
     "metadata": {},
     "output_type": "execute_result"
    },
    {
     "data": {
      "image/png": "[encoded data removed]",
      "text/plain": [
       "<Figure size 432x288 with 1 Axes>"
      ]
     },
     "metadata": {
      "needs_background": "light"
     },
     "output_type": "display_data"
    }
   ],
   "source": [
    "plt.imshow(mnist.train.images[8].reshape([28,28]))"
   ]
  },
  {
   "cell_type": "markdown",
   "metadata": {},
   "source": [
    "# Spam Hat Text Data"
   ]
  },
  {
   "cell_type": "markdown",
   "metadata": {},
   "source": [
    "Librerías necesarias para la descarga de datos en zip."
   ]
  },
  {
   "cell_type": "code",
   "execution_count": 44,
   "metadata": {},
   "outputs": [],
   "source": [
    "import requests\n",
    "import io\n",
    "from zipfile import ZipFile"
   ]
  },
  {
   "cell_type": "markdown",
   "metadata": {},
   "source": [
    "Descarga a partir de la url"
   ]
  },
  {
   "cell_type": "code",
   "execution_count": 45,
   "metadata": {},
   "outputs": [],
   "source": [
    "url = \"http://archive.ics.uci.edu/ml/machine-learning-databases/00228/smsspamcollection.zip\""
   ]
  },
  {
   "cell_type": "code",
   "execution_count": 46,
   "metadata": {},
   "outputs": [],
   "source": [
    "req = requests.get(url)"
   ]
  },
  {
   "cell_type": "code",
   "execution_count": 47,
   "metadata": {},
   "outputs": [],
   "source": [
    "z = ZipFile(io.BytesIO(req.content))"
   ]
  },
  {
   "cell_type": "code",
   "execution_count": 48,
   "metadata": {},
   "outputs": [],
   "source": [
    "file = z.read('SMSSpamCollection')"
   ]
  },
  {
   "cell_type": "code",
   "execution_count": 49,
   "metadata": {},
   "outputs": [],
   "source": [
    "text_data = file.decode()"
   ]
  },
  {
   "cell_type": "code",
   "execution_count": 51,
   "metadata": {},
   "outputs": [],
   "source": [
    "text_data = text_data.encode('ascii',errors='ignore')"
   ]
  },
  {
   "cell_type": "code",
   "execution_count": 54,
   "metadata": {},
   "outputs": [],
   "source": [
    "text_data = text_data.decode().split('\\n')"
   ]
  },
  {
   "cell_type": "markdown",
   "metadata": {},
   "source": [
    "text_data"
   ]
  },
  {
   "cell_type": "markdown",
   "metadata": {},
   "source": [
    "Se separa spam y no spam"
   ]
  },
  {
   "cell_type": "code",
   "execution_count": 56,
   "metadata": {},
   "outputs": [],
   "source": [
    "text_data = [x.split('\\t') for x in text_data if len(x)>=1]"
   ]
  },
  {
   "cell_type": "markdown",
   "metadata": {},
   "source": [
    "Separamos los headers y los datos de entrenamiento"
   ]
  },
  {
   "cell_type": "code",
   "execution_count": 58,
   "metadata": {},
   "outputs": [],
   "source": [
    "[text_data_target, text_data_train] = [list(x) for x in zip(*text_data)]"
   ]
  },
  {
   "cell_type": "code",
   "execution_count": 59,
   "metadata": {},
   "outputs": [
    {
     "data": {
      "text/plain": [
       "5574"
      ]
     },
     "execution_count": 59,
     "metadata": {},
     "output_type": "execute_result"
    }
   ],
   "source": [
    "len(text_data_train)"
   ]
  },
  {
   "cell_type": "code",
   "execution_count": 60,
   "metadata": {},
   "outputs": [
    {
     "data": {
      "text/plain": [
       "'Had your mobile 11 months or more? U R entitled to Update to the latest colour mobiles with camera for Free! Call The Mobile Update Co FREE on 08002986030'"
      ]
     },
     "execution_count": 60,
     "metadata": {},
     "output_type": "execute_result"
    }
   ],
   "source": [
    "text_data_train[9]"
   ]
  },
  {
   "cell_type": "code",
   "execution_count": 61,
   "metadata": {},
   "outputs": [
    {
     "data": {
      "text/plain": [
       "{'ham', 'spam'}"
      ]
     },
     "execution_count": 61,
     "metadata": {},
     "output_type": "execute_result"
    }
   ],
   "source": [
    "set(text_data_target)"
   ]
  },
  {
   "cell_type": "markdown",
   "metadata": {},
   "source": [
    "## Valoraciones de películas http://www.cs.cornell.edu/people/pabo/movie-review-data/rt-polaritydata.tar.gz"
   ]
  },
  {
   "cell_type": "markdown",
   "metadata": {},
   "source": [
    "### Análisis de polaridad \n",
    "Se debe descomprimir un tar.gz"
   ]
  },
  {
   "cell_type": "code",
   "execution_count": 70,
   "metadata": {},
   "outputs": [],
   "source": [
    "import requests\n",
    "import io\n",
    "import tarfile"
   ]
  },
  {
   "cell_type": "code",
   "execution_count": 82,
   "metadata": {},
   "outputs": [],
   "source": [
    "url = \"http://www.cs.cornell.edu/people/pabo/movie-review-data/rt-polaritydata.tar.gz\"\n",
    "req = requests.get(url)"
   ]
  },
  {
   "cell_type": "code",
   "execution_count": 83,
   "metadata": {},
   "outputs": [],
   "source": [
    "stream_data = io.BytesIO(req.content)"
   ]
  },
  {
   "cell_type": "code",
   "execution_count": 84,
   "metadata": {},
   "outputs": [],
   "source": [
    "tmp = io.BytesIO()"
   ]
  },
  {
   "cell_type": "code",
   "execution_count": 85,
   "metadata": {},
   "outputs": [
    {
     "data": {
      "text/plain": [
       "<_io.BytesIO at 0x308a9bc0f8>"
      ]
     },
     "execution_count": 85,
     "metadata": {},
     "output_type": "execute_result"
    }
   ],
   "source": [
    "tmp"
   ]
  },
  {
   "cell_type": "code",
   "execution_count": 86,
   "metadata": {},
   "outputs": [],
   "source": [
    "while True:\n",
    "    s = stream_data.read(16384)\n",
    "    if not s:\n",
    "        break\n",
    "    tmp.write(s)\n",
    "stream_data.close()"
   ]
  },
  {
   "cell_type": "code",
   "execution_count": 88,
   "metadata": {},
   "outputs": [
    {
     "data": {
      "text/plain": [
       "0"
      ]
     },
     "execution_count": 88,
     "metadata": {},
     "output_type": "execute_result"
    }
   ],
   "source": [
    "tmp.seek(0)"
   ]
  },
  {
   "cell_type": "code",
   "execution_count": 89,
   "metadata": {},
   "outputs": [],
   "source": [
    "tar_file = tarfile.open(fileobj=tmp, mode='r:gz')"
   ]
  },
  {
   "cell_type": "code",
   "execution_count": 90,
   "metadata": {},
   "outputs": [],
   "source": [
    "pos = tar_file.extractfile('rt-polaritydata/rt-polarity.pos')\n",
    "neg = tar_file.extractfile('rt-polaritydata/rt-polarity.neg')"
   ]
  },
  {
   "cell_type": "code",
   "execution_count": 91,
   "metadata": {},
   "outputs": [
    {
     "data": {
      "text/plain": [
       "<ExFileObject name=''>"
      ]
     },
     "execution_count": 91,
     "metadata": {},
     "output_type": "execute_result"
    }
   ],
   "source": [
    "pos"
   ]
  },
  {
   "cell_type": "markdown",
   "metadata": {},
   "source": [
    "Pasar a un lenguaje legible por el humano"
   ]
  },
  {
   "cell_type": "code",
   "execution_count": 92,
   "metadata": {},
   "outputs": [],
   "source": [
    "pos_data = []\n",
    "for line in pos:\n",
    "    pos_data.append(line.decode('ISO-8859-1').encode('ascii', errors='ignore').decode())"
   ]
  },
  {
   "cell_type": "code",
   "execution_count": 93,
   "metadata": {},
   "outputs": [
    {
     "data": {
      "text/plain": [
       "5331"
      ]
     },
     "execution_count": 93,
     "metadata": {},
     "output_type": "execute_result"
    }
   ],
   "source": [
    "len(pos_data)"
   ]
  },
  {
   "cell_type": "code",
   "execution_count": 94,
   "metadata": {},
   "outputs": [],
   "source": [
    "neg_data = []\n",
    "for line in neg:\n",
    "    neg_data.append(line.decode('ISO-8859-1').encode('ascii', errors='ignore').decode())"
   ]
  },
  {
   "cell_type": "code",
   "execution_count": 95,
   "metadata": {},
   "outputs": [
    {
     "data": {
      "text/plain": [
       "5331"
      ]
     },
     "execution_count": 95,
     "metadata": {},
     "output_type": "execute_result"
    }
   ],
   "source": [
    "len(neg_data)"
   ]
  },
  {
   "cell_type": "code",
   "execution_count": null,
   "metadata": {},
   "outputs": [],
   "source": []
  }
 ],
 "metadata": {
  "kernelspec": {
   "display_name": "Python 3",
   "language": "python",
   "name": "python3"
  }
 },
 "nbformat": 4,
 "nbformat_minor": 2
}
