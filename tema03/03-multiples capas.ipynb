{
 "cells": [
  {
   "cell_type": "markdown",
   "metadata": {},
   "source": [
    "# Trabajar con mpultiples capas"
   ]
  },
  {
   "cell_type": "code",
   "execution_count": 1,
   "metadata": {},
   "outputs": [],
   "source": [
    "import tensorflow as tf\n",
    "import numpy as np\n",
    "session = tf.Session()"
   ]
  },
  {
   "cell_type": "code",
   "execution_count": 3,
   "metadata": {},
   "outputs": [
    {
     "data": {
      "text/plain": [
       "array([[[[0.36009492],\n",
       "         [0.68764472],\n",
       "         [0.90064791],\n",
       "         [0.63938019]],\n",
       "\n",
       "        [[0.85218037],\n",
       "         [0.18104379],\n",
       "         [0.18085131],\n",
       "         [0.20982002]],\n",
       "\n",
       "        [[0.83366814],\n",
       "         [0.81651161],\n",
       "         [0.30336905],\n",
       "         [0.03875023]],\n",
       "\n",
       "        [[0.3204604 ],\n",
       "         [0.48822997],\n",
       "         [0.7850351 ],\n",
       "         [0.99315946]]]])"
      ]
     },
     "execution_count": 3,
     "metadata": {},
     "output_type": "execute_result"
    }
   ],
   "source": [
    "x_shape = [1,4, 4,1]\n",
    "x_val = np.random.uniform(size=x_shape) #valores entre 0 y 1\n",
    "#nos dará 4 columnas de color\n",
    "x_val"
   ]
  },
  {
   "cell_type": "code",
   "execution_count": 4,
   "metadata": {},
   "outputs": [],
   "source": [
    "x_data = tf.placeholder(tf.float32, shape=x_shape)"
   ]
  },
  {
   "cell_type": "code",
   "execution_count": 5,
   "metadata": {},
   "outputs": [],
   "source": [
    "my_filter = tf.constant(0.25, shape=[2,2,1,1])\n",
    "my_strides = [1,2,2,1]\n",
    "mov_avg_laver = tf.nn.conv2d(x_data, my_filter, my_strides, padding=\"SAME\", name=\"Movig_Avg_Windows\")"
   ]
  },
  {
   "cell_type": "markdown",
   "metadata": {},
   "source": [
    "## Saber el tamaño de salida después de haber aplicado la convolución.\n",
    "$$ \\frac{W-F+2P}{S}+1 $$\n",
    "- W: dimension de entrada\n",
    "- F: dimension del filtro\n",
    "- P: padding\n",
    "- S: stride"
   ]
  },
  {
   "cell_type": "code",
   "execution_count": 6,
   "metadata": {},
   "outputs": [],
   "source": [
    "def custom_layer(input_matrix):\n",
    "    input_matrix_sqeezed = tf.squeeze(input_matrix)\n",
    "    A = tf.constant([[1.,2.],[3.,4.]])\n",
    "    b = tf.constant(1., shape=[2,2])\n",
    "    tmp1 = tf.matmul(A, input_matrix_sqeezed)\n",
    "    tmp2 = tf.add(tmp1,b) ## A*x+b\n",
    "    return tf.sigmoid(tmp2)\n",
    "    "
   ]
  },
  {
   "cell_type": "code",
   "execution_count": 7,
   "metadata": {},
   "outputs": [],
   "source": [
    "with tf.name_scope('Custom_Layer') as scope:\n",
    "    customlayer1 = custom_layer(mov_avg_laver)"
   ]
  },
  {
   "cell_type": "code",
   "execution_count": 9,
   "metadata": {},
   "outputs": [
    {
     "name": "stdout",
     "output_type": "stream",
     "text": [
      "[[0.9398951  0.92709047]\n",
      " [0.9934361  0.9897314 ]]\n"
     ]
    }
   ],
   "source": [
    "writer = tf.summary.FileWriter('multiple-layer', session.graph)\n",
    "print(session.run(customlayer1,feed_dict={x_data:x_val}))"
   ]
  },
  {
   "cell_type": "code",
   "execution_count": 10,
   "metadata": {},
   "outputs": [],
   "source": [
    "writer.close()"
   ]
  },
  {
   "cell_type": "markdown",
   "metadata": {},
   "source": [
    "### tensor board\n",
    "Para utilizar tensorboard en windows debemos utilizar el anaconda prompt, vamos a la carpeta de la seccion, y escribimos el siguiente código:\n",
    "#### tensorboard --logdir=\"nombredelacarpetacontenedora_enestecaso: Custom_layer\"\n",
    "se abrirá un puerto al cual debemos acceder desde el "
   ]
  }
 ],
 "metadata": {
  "kernelspec": {
   "display_name": "Python 3",
   "language": "python",
   "name": "python3"
  },
  "language_info": {
   "codemirror_mode": {
    "name": "ipython",
    "version": 3
   },
   "file_extension": ".py",
   "mimetype": "text/x-python",
   "name": "python",
   "nbconvert_exporter": "python",
   "pygments_lexer": "ipython3",
   "version": "3.7.3"
  }
 },
 "nbformat": 4,
 "nbformat_minor": 2
}
