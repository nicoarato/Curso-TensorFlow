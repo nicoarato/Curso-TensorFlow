{
 "cells": [
  {
   "cell_type": "markdown",
   "metadata": {},
   "source": [
    "# Cómo trabajar con Matrices"
   ]
  },
  {
   "cell_type": "code",
   "execution_count": 1,
   "metadata": {},
   "outputs": [],
   "source": [
    "import tensorflow as tf\n",
    "session = tf.Session()\n"
   ]
  },
  {
   "cell_type": "markdown",
   "metadata": {},
   "source": [
    "## 1. Cómo crear matrices"
   ]
  },
  {
   "cell_type": "code",
   "execution_count": 19,
   "metadata": {},
   "outputs": [
    {
     "name": "stdout",
     "output_type": "stream",
     "text": [
      "[[1. 0. 0. 0.]\n",
      " [0. 1. 0. 0.]\n",
      " [0. 0. 1. 0.]\n",
      " [0. 0. 0. 1.]]\n"
     ]
    }
   ],
   "source": [
    "identity = tf.diag([1.,1.,1.,1.])\n",
    "print(session.run(identity))"
   ]
  },
  {
   "cell_type": "code",
   "execution_count": 10,
   "metadata": {},
   "outputs": [
    {
     "name": "stdout",
     "output_type": "stream",
     "text": [
      "[[-0.36151385  0.26288822  0.82057774  0.58631545]\n",
      " [ 0.02149232  0.03546572  0.7458191   1.7819456 ]\n",
      " [ 0.17085026  1.1022977  -0.7611906  -0.03098968]]\n"
     ]
    }
   ],
   "source": [
    "A = tf.truncated_normal([3,4])\n",
    "print(session.run(A))"
   ]
  },
  {
   "cell_type": "code",
   "execution_count": 14,
   "metadata": {},
   "outputs": [
    {
     "name": "stdout",
     "output_type": "stream",
     "text": [
      "[[1988. 1988. 1988. 1988.]\n",
      " [1988. 1988. 1988. 1988.]\n",
      " [1988. 1988. 1988. 1988.]]\n"
     ]
    }
   ],
   "source": [
    "B = tf.fill([3,4],1988.)\n",
    "print(session.run(B))"
   ]
  },
  {
   "cell_type": "code",
   "execution_count": 12,
   "metadata": {},
   "outputs": [
    {
     "name": "stdout",
     "output_type": "stream",
     "text": [
      "[[0.06782281 0.91193044 0.06708479]\n",
      " [0.44713628 0.6037891  0.60076594]\n",
      " [0.25298274 0.63227534 0.5795405 ]\n",
      " [0.94033754 0.4446528  0.29243302]]\n"
     ]
    }
   ],
   "source": [
    "C = tf.random_uniform([4,3])\n",
    "print(session.run(C))"
   ]
  },
  {
   "cell_type": "code",
   "execution_count": 13,
   "metadata": {},
   "outputs": [
    {
     "name": "stdout",
     "output_type": "stream",
     "text": [
      "[[1. 2. 3.]\n",
      " [4. 5. 6.]\n",
      " [7. 8. 9.]]\n"
     ]
    }
   ],
   "source": [
    "import numpy as np\n",
    "data = np.array([[1.,2.,3.],[4.,5.,6.],[7.,8.,9.]])\n",
    "D = tf.convert_to_tensor(data)\n",
    "print(session.run(D))"
   ]
  },
  {
   "cell_type": "markdown",
   "metadata": {},
   "source": [
    "## 2. Operar con matrices"
   ]
  },
  {
   "cell_type": "code",
   "execution_count": 15,
   "metadata": {},
   "outputs": [
    {
     "name": "stdout",
     "output_type": "stream",
     "text": [
      "[[1989.9607 1987.359  1987.1428 1987.1112]\n",
      " [1987.7938 1987.4471 1988.4878 1988.4991]\n",
      " [1987.417  1988.6324 1987.5516 1986.9205]]\n"
     ]
    }
   ],
   "source": [
    "print(session.run(A+B))"
   ]
  },
  {
   "cell_type": "code",
   "execution_count": 17,
   "metadata": {},
   "outputs": [
    {
     "name": "stdout",
     "output_type": "stream",
     "text": [
      "[[ 1.3347223   1.9526694   1.8022423 ]\n",
      " [-0.53489435 -0.04331152  0.09541965]\n",
      " [-1.0320356  -0.9476245  -0.05275306]]\n"
     ]
    }
   ],
   "source": [
    "print(session.run(tf.matmul(A,C)))"
   ]
  },
  {
   "cell_type": "code",
   "execution_count": 20,
   "metadata": {},
   "outputs": [
    {
     "name": "stdout",
     "output_type": "stream",
     "text": [
      "[[ 3.2231078e-01 -3.4820005e-01  4.7915968e-01 -9.1175157e-01]\n",
      " [-7.5466323e-01 -1.7581029e+00  3.5113543e-01 -5.7520008e-01]\n",
      " [-3.7075675e-01  1.8686314e-04 -7.3617905e-01  6.9339144e-01]]\n"
     ]
    }
   ],
   "source": [
    "print(session.run(tf.matmul(A,identity)))"
   ]
  },
  {
   "cell_type": "markdown",
   "metadata": {},
   "source": [
    "## 3. Transpuesta y determinante, inversa"
   ]
  },
  {
   "cell_type": "code",
   "execution_count": 21,
   "metadata": {},
   "outputs": [
    {
     "name": "stdout",
     "output_type": "stream",
     "text": [
      "[[1. 4. 7.]\n",
      " [2. 5. 8.]\n",
      " [3. 6. 9.]]\n"
     ]
    }
   ],
   "source": [
    "print(session.run(tf.transpose(D)))"
   ]
  },
  {
   "cell_type": "code",
   "execution_count": 22,
   "metadata": {},
   "outputs": [
    {
     "name": "stdout",
     "output_type": "stream",
     "text": [
      "6.66133814775094e-16\n"
     ]
    }
   ],
   "source": [
    "print(session.run(tf.matrix_determinant(D)))"
   ]
  },
  {
   "cell_type": "code",
   "execution_count": 24,
   "metadata": {},
   "outputs": [
    {
     "name": "stdout",
     "output_type": "stream",
     "text": [
      "70.00000000000003\n"
     ]
    }
   ],
   "source": [
    "E = tf.convert_to_tensor(np.array([[1.,2.,3.],[-3.,-6.,1.],[6.,5.,4.]]))\n",
    "print(session.run(tf.matrix_determinant(E)))"
   ]
  },
  {
   "cell_type": "code",
   "execution_count": 29,
   "metadata": {},
   "outputs": [
    {
     "name": "stdout",
     "output_type": "stream",
     "text": [
      "[[-4.14285714e-01  1.00000000e-01  2.85714286e-01]\n",
      " [ 2.57142857e-01 -2.00000000e-01 -1.42857143e-01]\n",
      " [ 3.00000000e-01  1.00000000e-01  8.32667268e-18]]\n"
     ]
    }
   ],
   "source": [
    "Einv =tf.matrix_inverse(E)\n",
    "print(session.run(Einv))"
   ]
  },
  {
   "cell_type": "code",
   "execution_count": 30,
   "metadata": {},
   "outputs": [
    {
     "name": "stdout",
     "output_type": "stream",
     "text": [
      "[[ 1.00000000e+00  2.77555756e-17  2.49800181e-17]\n",
      " [ 1.66533454e-16  1.00000000e+00  8.32667268e-18]\n",
      " [-2.22044605e-16  0.00000000e+00  1.00000000e+00]]\n"
     ]
    }
   ],
   "source": [
    "print(session.run(tf.matmul(E,Einv)))"
   ]
  },
  {
   "cell_type": "markdown",
   "metadata": {},
   "source": [
    "## 4. Descomposición"
   ]
  },
  {
   "cell_type": "code",
   "execution_count": 31,
   "metadata": {},
   "outputs": [
    {
     "name": "stdout",
     "output_type": "stream",
     "text": [
      "[[1. 0. 0. 0.]\n",
      " [0. 1. 0. 0.]\n",
      " [0. 0. 1. 0.]\n",
      " [0. 0. 0. 1.]]\n"
     ]
    }
   ],
   "source": [
    "print(session.run(tf.cholesky(identity)))"
   ]
  },
  {
   "cell_type": "markdown",
   "metadata": {},
   "source": [
    "## 5. Valores y vectores propios"
   ]
  },
  {
   "cell_type": "code",
   "execution_count": 32,
   "metadata": {},
   "outputs": [
    {
     "name": "stdout",
     "output_type": "stream",
     "text": [
      "[-10.54474316   0.51459454   9.03014862]\n"
     ]
    }
   ],
   "source": [
    "print(session.run(tf.self_adjoint_eigvals(E)))"
   ]
  },
  {
   "cell_type": "code",
   "execution_count": 33,
   "metadata": {},
   "outputs": [
    {
     "name": "stdout",
     "output_type": "stream",
     "text": [
      "(array([-10.54474316,   0.51459454,   9.03014862]), array([[-0.43573042, -0.71173038,  0.55097992],\n",
      "       [-0.78060869,  0.60357012,  0.16233666],\n",
      "       [ 0.44809495,  0.35936469,  0.81857677]]))\n"
     ]
    }
   ],
   "source": [
    "print(session.run(tf.self_adjoint_eig(E)))"
   ]
  },
  {
   "cell_type": "code",
   "execution_count": null,
   "metadata": {},
   "outputs": [],
   "source": []
  }
 ],
 "metadata": {
  "kernelspec": {
   "display_name": "Python 3",
   "language": "python",
   "name": "python3"
  },
  "language_info": {
   "codemirror_mode": {
    "name": "ipython",
    "version": 3
   },
   "file_extension": ".py",
   "mimetype": "text/x-python",
   "name": "python",
   "nbconvert_exporter": "python",
   "pygments_lexer": "ipython3",
   "version": "3.7.2"
  }
 },
 "nbformat": 4,
 "nbformat_minor": 2
}
